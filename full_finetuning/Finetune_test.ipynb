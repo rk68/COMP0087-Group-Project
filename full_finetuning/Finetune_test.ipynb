{
 "cells": [
  {
   "cell_type": "code",
   "execution_count": 1,
   "metadata": {},
   "outputs": [
    {
     "name": "stderr",
     "output_type": "stream",
     "text": [
      "You are using the default legacy behaviour of the <class 'transformers.models.t5.tokenization_t5.T5Tokenizer'>. This is expected, and simply means that the `legacy` (previous) behavior will be used so nothing changes for you. If you want to use the new behaviour, set `legacy=False`. This should only be set if you understand what it means, and thoroughly read the reason why this was added as explained in https://github.com/huggingface/transformers/pull/24565\n",
      "Special tokens have been added in the vocabulary, make sure the associated word embeddings are fine-tuned or trained.\n"
     ]
    }
   ],
   "source": [
    "from transformers import T5Tokenizer, T5ForConditionalGeneration, Trainer, TrainingArguments, pipeline\n",
    "from datasets import load_dataset\n",
    "import torch\n",
    "import random\n",
    "\n",
    "dataset_name = 'aqua_rat'\n",
    "model_name = 'google-t5/t5-base'\n",
    "\n",
    "dataset = load_dataset(dataset_name, split='train')\n",
    "reduced_dataset = dataset.shuffle(seed=42).select(range(200))\n",
    "\n",
    "tokenizer = T5Tokenizer.from_pretrained(model_name)\n",
    "\n",
    "model = T5ForConditionalGeneration.from_pretrained(model_name)\n",
    "model.save_pretrained('./before_finetuning')\n"
   ]
  },
  {
   "cell_type": "code",
   "execution_count": 2,
   "metadata": {},
   "outputs": [
    {
     "data": {
      "application/vnd.jupyter.widget-view+json": {
       "model_id": "8986245b7eec428da6b60eb60e6fe3e5",
       "version_major": 2,
       "version_minor": 0
      },
      "text/plain": [
       "Map:   0%|          | 0/200 [00:00<?, ? examples/s]"
      ]
     },
     "metadata": {},
     "output_type": "display_data"
    }
   ],
   "source": [
    "def preprocess_aquarat(examples):\n",
    "    # Concatenate question and options into a single string.\n",
    "    # Format could be: \"question: <question> options: A: <optionA> B: <optionB> C: <optionC> D: <optionD> E: <optionE>\"\n",
    "    questions_and_options = [\n",
    "        #f\"{body}, {question}\" for body, question in zip(examples['Body'], examples['Question'])\n",
    "        f\"question: {q} options: {opts[0]} {opts[1]} {opts[2]} {opts[3]} {opts[4]}.\"\n",
    "        for q, opts in zip(examples[\"question\"], examples[\"options\"])\n",
    "    ]\n",
    "    \n",
    "    # The correct answer is mapped to its full text option.\n",
    "    correct_answers = [opts[ord(examples[\"correct\"][i]) - ord('A')] for i, opts in enumerate(examples[\"options\"])]\n",
    "    #correct_answers = [str(answer) for answer in examples['Answer']]\n",
    "    \n",
    "    # Tokenize inputs and labels\n",
    "    input_encodings = tokenizer(questions_and_options, padding=\"max_length\", truncation=True, max_length=512)\n",
    "    target_encodings = tokenizer(correct_answers, padding=\"max_length\", truncation=True, max_length=128)\n",
    "    \n",
    "    return {\n",
    "        \"input_ids\": input_encodings.input_ids,\n",
    "        \"attention_mask\": input_encodings.attention_mask,\n",
    "        \"labels\": target_encodings.input_ids,\n",
    "        \"input_text\": questions_and_options,\n",
    "        \"labels_text\": correct_answers\n",
    "    }\n",
    "\n",
    "def ask_math_question(input_ids, model, tokenizer):\n",
    "    # Generate the output ids with the model\n",
    "    output_ids = model.generate(input_ids, max_length=50, num_beams=5, early_stopping=True)[0]\n",
    "    # Decode the generated ids to get the answer\n",
    "    answer = tokenizer.decode(output_ids, skip_special_tokens=True)\n",
    "    return answer\n",
    "\n",
    "# Apply preprocessing\n",
    "processed_dataset = reduced_dataset.map(preprocess_aquarat, batched=True)\n"
   ]
  },
  {
   "cell_type": "code",
   "execution_count": 3,
   "metadata": {},
   "outputs": [
    {
     "data": {
      "application/vnd.jupyter.widget-view+json": {
       "model_id": "075ada4f7322470590a43973286e27e3",
       "version_major": 2,
       "version_minor": 0
      },
      "text/plain": [
       "  0%|          | 0/75 [00:00<?, ?it/s]"
      ]
     },
     "metadata": {},
     "output_type": "display_data"
    },
    {
     "name": "stdout",
     "output_type": "stream",
     "text": [
      "{'train_runtime': 842.2716, 'train_samples_per_second': 0.712, 'train_steps_per_second': 0.089, 'train_loss': 13.30950927734375, 'epoch': 3.0}\n"
     ]
    }
   ],
   "source": [
    "training_args = TrainingArguments(\n",
    "    output_dir=\"./results\",\n",
    "    num_train_epochs=3,\n",
    "    per_device_train_batch_size=8,\n",
    "    per_device_eval_batch_size=8,\n",
    "    warmup_steps=500,\n",
    "    weight_decay=0.01,\n",
    "    logging_dir=\"./logs\",\n",
    "    logging_strategy=\"no\",\n",
    ")\n",
    "\n",
    "trainer = Trainer(\n",
    "    model=model,\n",
    "    args=training_args,\n",
    "    train_dataset=processed_dataset,\n",
    "    # eval_dataset=processed_eval_dataset, # If you have an evaluation dataset\n",
    ")\n",
    "\n",
    "trainer.train()\n",
    "\n",
    "model.save_pretrained('./after_finetuning')"
   ]
  },
  {
   "cell_type": "code",
   "execution_count": 4,
   "metadata": {},
   "outputs": [
    {
     "name": "stdout",
     "output_type": "stream",
     "text": [
      "Question and options: question: Let q represent the integer length of a side of a triangle. If r represents the number of distinct values for q such that we can create a triangle with lengths q, 12, and 19, what is the value of r? options: A)15 B)22 C)23 D)25 E)31.\n",
      "Answer before fine-tuning: True\n",
      "Answer after fine-tuning: ................................................ the\n"
     ]
    }
   ],
   "source": [
    "# Select a random question from the training dataset\n",
    "sample_index = random.randint(0, len(processed_dataset) - 1)\n",
    "sample_question = processed_dataset[sample_index]\n",
    "\n",
    "# Load models for comparison\n",
    "model_before_finetuning = T5ForConditionalGeneration.from_pretrained('./before_finetuning')\n",
    "model_after_finetuning = T5ForConditionalGeneration.from_pretrained('./after_finetuning')\n",
    "\n",
    "# Generate answers to the selected question\n",
    "input_ids = torch.tensor(sample_question['input_ids']).unsqueeze(0)  # Add batch dimension\n",
    "pre_finetuning_answer = ask_math_question(input_ids, model_before_finetuning, tokenizer)\n",
    "post_finetuning_answer = ask_math_question(input_ids, model_after_finetuning, tokenizer)\n",
    "\n",
    "# Display the question and compare answers\n",
    "print(\"Question and options:\", tokenizer.decode(input_ids[0], skip_special_tokens=True))\n",
    "print(\"Answer before fine-tuning:\", pre_finetuning_answer)\n",
    "print(\"Answer after fine-tuning:\", post_finetuning_answer)"
   ]
  },
  {
   "cell_type": "code",
   "execution_count": null,
   "metadata": {},
   "outputs": [],
   "source": []
  }
 ],
 "metadata": {
  "kernelspec": {
   "display_name": "dsml_env",
   "language": "python",
   "name": "python3"
  },
  "language_info": {
   "codemirror_mode": {
    "name": "ipython",
    "version": 3
   },
   "file_extension": ".py",
   "mimetype": "text/x-python",
   "name": "python",
   "nbconvert_exporter": "python",
   "pygments_lexer": "ipython3",
   "version": "3.9.18"
  }
 },
 "nbformat": 4,
 "nbformat_minor": 2
}
