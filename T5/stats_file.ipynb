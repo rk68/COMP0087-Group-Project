{
 "cells": [
  {
   "cell_type": "code",
   "execution_count": 2,
   "metadata": {},
   "outputs": [
    {
     "name": "stdout",
     "output_type": "stream",
     "text": [
      "['B', 'B', 'D', 'E', 'C', 'D', 'E', 'D', 'B', 'C', 'B', 'B', 'D', 'A', 'D', 'E', 'C', 'A', 'A', 'A', 'D', 'B', 'B', 'E', 'E', 'D', 'B', 'C', 'B', 'A', 'E', 'B', 'C', 'D', 'C', 'A', 'B', 'B', 'A', 'E', 'E', 'E', 'D', 'E', 'D', 'A', 'C', 'A', 'C', 'B', 'B', 'B', 'A', 'A', 'D', 'E', 'C', 'A', 'D', 'D', 'D', 'A', 'D', 'B', 'A', 'B', 'A', 'A', 'D', 'D', 'A', 'A', 'E', 'D', 'C', 'C', 'A', 'A', 'C', 'E', 'C', 'A', 'A', 'D', 'A', 'D', 'B', 'D', 'A', 'C', 'B', 'A', 'A', 'A', 'D', 'E', 'A', 'B', 'A', 'E', 'E', 'C', 'E', 'E', 'C', 'D', 'B', 'A', 'D', 'B', 'A', 'A', 'B', 'B', 'B', 'B', 'C', 'A', 'C', 'C', 'D', 'D', 'B', 'D', 'D', 'D', 'A', 'B', 'D', 'A', 'B', 'E', 'C', 'B', 'E', 'A', 'B', 'C', 'A', 'E', 'D', 'B', 'C', 'B', 'D', 'C', 'E', 'D', 'B', 'D', 'D', 'C', 'E', 'B', 'D', 'A', 'D', 'C', 'C', 'E', 'D', 'B', 'D', 'A', 'E', 'B', 'D', 'A', 'E', 'C', 'E', 'A', 'D', 'A', 'C', 'B', 'C', 'A', 'A', 'A', 'C', 'E', 'E', 'C', 'E', 'E', 'C', 'E', 'B', 'D', 'D', 'A', 'C', 'D', 'D', 'E', 'B', 'B', 'E', 'A', 'D', 'B', 'E', 'D', 'C', 'E', 'C', 'E', 'A', 'C', 'A', 'A', 'B', 'A', 'C', 'C', 'D', 'E', 'C', 'E', 'C', 'C', 'D', 'C', 'C', 'A', 'B', 'E', 'D', 'A', 'A', 'D', 'E', 'E', 'A', 'A', 'D', 'D', 'A', 'A', 'C', 'B', 'B', 'E', 'B', 'B', 'C', 'C', 'A', 'B', 'D', 'E', 'B', 'D', 'B', 'B', 'E', 'E', 'B', 'A', 'B', 'E', 'B', 'C', 'C', 'D', 'D', 'E', 'B', 'B', 'E', 'A', 'B', 'E', 'E', 'C', 'C', 'B', 'E', 'E', 'B', 'A', 'A', 'A', 'C', 'E', 'C', 'A', 'B', 'C', 'B', 'A', 'E', 'B', 'B', 'E', 'D', 'C', 'C', 'A', 'A', 'D', 'E', 'B', 'D', 'E', 'E', 'C', 'B', 'E', 'D', 'D', 'C', 'A', 'D', 'B', 'D', 'D', 'B', 'D', 'D', 'D', 'C', 'D', 'E', 'E', 'D', 'D', 'E', 'D', 'E', 'D', 'B', 'A', 'B', 'B', 'A', 'A', 'A', 'B', 'C', 'D', 'A', 'A', 'A', 'E', 'C', 'E', 'C', 'A', 'D', 'C', 'E', 'B', 'C', 'B', 'C', 'E', 'B', 'E', 'E', 'E', 'B', 'C', 'E', 'D', 'B', 'C', 'A', 'C', 'E', 'C', 'E', 'B', 'A', 'A', 'D', 'B', 'C', 'E', 'C', 'C', 'D', 'E', 'C', 'E', 'E', 'C', 'D', 'B', 'C', 'C', 'D', 'A', 'E', 'A', 'C', 'D', 'C', 'C', 'A', 'A', 'D', 'C', 'E', 'B', 'C', 'E', 'D', 'A', 'B', 'B', 'D', 'E', 'D', 'A', 'C', 'A', 'C', 'A', 'B', 'D', 'A', 'D', 'A', 'E', 'A', 'B', 'C', 'A', 'C', 'E', 'A', 'E', 'C', 'A', 'C', 'B', 'E', 'A', 'D', 'D', 'B', 'A', 'B', 'D', 'B', 'A', 'E', 'A', 'A', 'B', 'B', 'E', 'C', 'A', 'B', 'E', 'E', 'B', 'D', 'C', 'E', 'E', 'E', 'B', 'A', 'C', 'C', 'C', 'B', 'D', 'E', 'C', 'C', 'D', 'A', 'B', 'C', 'B', 'C', 'D', 'E', 'E', 'B', 'D', 'D', 'A', 'A', 'C', 'B', 'A', 'C', 'A', 'D', 'D', 'A', 'A', 'D', 'E', 'D', 'D', 'B', 'C', 'C', 'B', 'C', 'C', 'E', 'B', 'C', 'C', 'C', 'E', 'A', 'A', 'C', 'B', 'C', 'C', 'C', 'A', 'D', 'E', 'A', 'E', 'D', 'D', 'C', 'B', 'D', 'B', 'C', 'E', 'A', 'B', 'C', 'E', 'C', 'D', 'C', 'A', 'C', 'B', 'E', 'B', 'D', 'A', 'C', 'D', 'E', 'A', 'C', 'D', 'E', 'B', 'D', 'D', 'C', 'A', 'B', 'A', 'C', 'B', 'D', 'C', 'B', 'E', 'E', 'C', 'B', 'D', 'B', 'B', 'A', 'E', 'A', 'E', 'D', 'C', 'C', 'C', 'C', 'A', 'E', 'B', 'C', 'A', 'A', 'A', 'C', 'E', 'D', 'D', 'B', 'C', 'E', 'E', 'A', 'B', 'A', 'C', 'C', 'E', 'E', 'B', 'C', 'A', 'E', 'A', 'A', 'C', 'E', 'B', 'A', 'B', 'A', 'C', 'C', 'C', 'C', 'E', 'C', 'A', 'B', 'E', 'C', 'D', 'E', 'D', 'D', 'D', 'D', 'A', 'A', 'B', 'B', 'E', 'B', 'A', 'B', 'E', 'B', 'B', 'B', 'A', 'B', 'D', 'B', 'E', 'E', 'A', 'A', 'C', 'D', 'B', 'D', 'D', 'E', 'C', 'C', 'C', 'B', 'B', 'E', 'C', 'E', 'A', 'A', 'B', 'C', 'E', 'B', 'C', 'E', 'E', 'C', 'A', 'C', 'E', 'D', 'E', 'A', 'B', 'B', 'A', 'B', 'E', 'E', 'A', 'B', 'D', 'E', 'C', 'C', 'B', 'E', 'C', 'C', 'C', 'C', 'A', 'C', 'C', 'D', 'A', 'D', 'B', 'D', 'C', 'C', 'E', 'C', 'D', 'D', 'D', 'D', 'D', 'D', 'A', 'D', 'D', 'C', 'E', 'C', 'E', 'A', 'B', 'A', 'A', 'B', 'C', 'D', 'D', 'D', 'D', 'E', 'D', 'B', 'A', 'A', 'C', 'A', 'A', 'C', 'A', 'B', 'B', 'C', 'A', 'B', 'B', 'B', 'E', 'E', 'A', 'B', 'E', 'D', 'A', 'D', 'C', 'A', 'A', 'C', 'D', 'A', 'C', 'D', 'C', 'E', 'D', 'D', 'D', 'D', 'E', 'A', 'A', 'E', 'B', 'D', 'B', 'B', 'D', 'C', 'B', 'B', 'A', 'B', 'B', 'D', 'A', 'B', 'B', 'A', 'A', 'B', 'E', 'C', 'D', 'A', 'A', 'E', 'D', 'B', 'A', 'E', 'E', 'D', 'C', 'B', 'D', 'C', 'A', 'A', 'A', 'B', 'B', 'D', 'B', 'E', 'A', 'D', 'B', 'A', 'B', 'B', 'D', 'A', 'C', 'C', 'B', 'A', 'A', 'A', 'B', 'A', 'C', 'D', 'C', 'A', 'B', 'B', 'B', 'D', 'D', 'E', 'E', 'B', 'A', 'A', 'C', 'E', 'C', 'C', 'D', 'D', 'D', 'E', 'B', 'D', 'D', 'A', 'A', 'E', 'B', 'B', 'E', 'D', 'C', 'A', 'B', 'D', 'E', 'D', 'A', 'B', 'D', 'B', 'C', 'D', 'B', 'D', 'E', 'C', 'E', 'D', 'D', 'D', 'E', 'E', 'E', 'C', 'A', 'D', 'D', 'E', 'C', 'B', 'D', 'C', 'B', 'D', 'B', 'C', 'C', 'B', 'E', 'B', 'E', 'E', 'E', 'C', 'A', 'E', 'E', 'A', 'C', 'B', 'E', 'D', 'D', 'B', 'E', 'A', 'D', 'A', 'D', 'D', 'D', 'E', 'B', 'E', 'E', 'E', 'C', 'B', 'A', 'C', 'E', 'D', 'E', 'E', 'E', 'C', 'D', 'B', 'A', 'D', 'C', 'D', 'E', 'E', 'B', 'E', 'B', 'A', 'B', 'E', 'C', 'E', 'D', 'C', 'D', 'E', 'E', 'C', 'B', 'B', 'C', 'E', 'E', 'D', 'B', 'E', 'E', 'E', 'D', 'E', 'A', 'A', 'D', 'E', 'A', 'A', 'E', 'C', 'E', 'E', 'D', 'B', 'C', 'E', 'B', 'A', 'C', 'D', 'C', 'E', 'D']\n",
      "Counter({'B': 200, 'D': 200, 'E': 200, 'C': 200, 'A': 200})\n"
     ]
    }
   ],
   "source": [
    "from datasets import Dataset\n",
    "import sqlite3\n",
    "import pandas as pd\n",
    "from collections import Counter\n",
    "from methods import get_dataset\n",
    "\n",
    "database = get_dataset(1000, 42)\n",
    "print(database['correct'])\n",
    "\n",
    "# Use Counter to count occurrences\n",
    "count = Counter(database['correct'])\n",
    "\n",
    "# Display the count of each letter\n",
    "print(count)"
   ]
  },
  {
   "cell_type": "code",
   "execution_count": null,
   "metadata": {},
   "outputs": [],
   "source": [
    "from datasets import load_dataset\n",
    "\n",
    "test_data = load_dataset('aqua_rat', split='test')"
   ]
  }
 ],
 "metadata": {
  "kernelspec": {
   "display_name": "adl-cw2",
   "language": "python",
   "name": "python3"
  },
  "language_info": {
   "codemirror_mode": {
    "name": "ipython",
    "version": 3
   },
   "file_extension": ".py",
   "mimetype": "text/x-python",
   "name": "python",
   "nbconvert_exporter": "python",
   "pygments_lexer": "ipython3",
   "version": "3.10.14"
  }
 },
 "nbformat": 4,
 "nbformat_minor": 2
}
