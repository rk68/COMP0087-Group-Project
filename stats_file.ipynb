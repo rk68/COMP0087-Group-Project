{
 "cells": [
  {
   "cell_type": "code",
   "execution_count": 18,
   "metadata": {},
   "outputs": [
    {
     "name": "stdout",
     "output_type": "stream",
     "text": [
      "['D', 'A', 'B', 'B', 'B', 'D', 'C', 'E', 'B', 'D', 'A', 'C', 'B', 'B', 'B', 'C', 'A', 'C', 'B', 'A', 'C', 'B', 'A', 'E', 'B', 'C', 'B', 'B', 'A', 'C', 'B', 'E', 'B', 'C', 'B', 'D', 'B', 'B', 'E', 'B', 'E', 'A', 'B', 'C', 'A', 'A', 'B', 'A', 'A', 'C', 'A', 'A', 'B', 'A', 'A', 'A', 'B', 'A', 'E', 'B', 'A', 'A', 'B', 'A', 'E', 'E', 'C', 'A', 'A', 'D', 'B', 'C', 'C', 'B', 'E', 'B', 'C', 'D', 'C', 'A', 'B', 'E', 'A', 'C', 'D', 'D', 'B', 'B', 'B', 'A', 'B', 'B', 'B', 'B', 'A', 'E', 'A', 'C', 'A', 'B', 'A', 'A', 'B', 'B', 'B', 'D', 'D', 'C', 'C', 'A', 'A', 'B', 'B', 'A', 'B', 'A', 'E', 'A', 'B', 'B', 'A', 'A', 'D', 'A', 'B', 'D', 'A', 'A', 'C', 'E', 'A', 'A', 'B', 'C', 'B', 'A', 'B', 'A', 'C', 'E', 'A', 'A', 'A', 'B', 'B', 'A', 'C', 'B', 'C', 'A', 'C', 'E', 'A', 'E', 'D', 'B', 'C', 'C', 'C', 'C', 'D', 'B', 'A', 'C', 'B', 'A', 'B', 'B', 'A', 'C', 'C', 'D', 'C', 'B', 'E', 'B', 'D', 'C', 'B', 'E', 'A', 'B', 'B', 'A', 'B', 'D', 'A', 'A', 'A', 'D', 'C', 'B', 'A', 'C', 'A', 'A', 'B', 'D', 'B', 'B', 'A', 'E', 'A', 'E', 'B', 'A', 'B', 'C', 'B', 'B', 'C', 'B', 'D', 'B', 'B', 'B', 'C', 'A', 'C', 'B', 'E', 'B', 'B', 'B', 'B', 'B', 'A', 'E', 'E', 'E', 'A', 'A', 'E', 'D', 'B', 'A', 'E', 'B', 'C', 'A', 'C', 'B', 'D', 'E', 'B', 'A', 'C', 'D', 'B', 'E', 'C', 'A', 'C', 'E', 'A', 'C', 'B', 'B', 'D', 'A', 'B', 'B', 'C', 'E', 'C', 'B', 'B', 'D', 'D', 'A', 'E', 'B', 'C', 'C', 'E', 'D', 'B', 'A', 'C', 'D', 'B', 'B', 'B', 'B', 'B', 'C', 'B', 'D', 'C', 'D', 'A', 'A', 'C', 'E', 'A', 'A', 'C', 'C', 'B', 'A', 'C', 'A', 'C', 'A', 'B', 'C', 'E', 'C', 'A', 'B', 'C', 'B', 'C', 'E', 'A', 'C', 'D', 'E', 'A', 'B', 'B', 'A', 'A', 'A', 'B', 'E', 'B', 'B', 'E', 'A', 'A', 'B', 'A', 'B', 'A', 'C', 'B', 'D', 'A', 'A', 'C', 'A', 'C', 'D', 'D', 'B', 'B', 'C', 'B', 'A', 'B', 'B', 'B', 'A', 'B', 'C', 'E', 'B', 'B', 'A', 'E', 'D', 'A', 'A', 'A', 'A', 'C', 'B', 'B', 'A', 'B', 'C', 'A', 'C', 'B', 'A', 'B', 'A', 'B', 'C', 'C', 'B', 'A', 'C', 'B', 'C', 'D', 'D', 'B', 'A', 'D', 'B', 'B', 'B', 'B', 'C', 'E', 'E', 'A', 'D', 'C', 'C', 'B', 'A', 'E', 'C', 'A', 'E', 'C', 'B', 'A', 'C', 'A', 'C', 'B', 'B', 'B', 'A', 'A', 'E', 'A', 'B', 'D', 'D', 'B', 'C', 'C', 'E', 'C', 'C', 'B', 'B', 'B', 'A', 'A', 'B', 'A', 'C', 'D', 'B', 'A', 'B', 'B', 'B', 'A', 'E', 'B', 'D', 'D', 'B', 'B', 'B', 'C', 'A', 'B', 'A', 'B', 'B', 'A', 'A', 'C', 'A', 'B', 'A', 'B', 'A', 'D', 'C', 'B', 'B', 'D', 'A', 'B', 'A', 'A', 'B', 'B', 'E', 'B', 'C', 'E', 'A', 'D', 'B', 'A', 'B', 'B', 'A', 'B', 'E', 'A', 'C', 'A', 'B', 'D', 'E', 'B', 'A', 'B', 'B', 'C', 'A', 'C', 'B', 'C', 'A', 'A', 'B', 'D', 'C', 'A', 'A', 'C', 'E', 'B', 'E', 'A', 'D', 'B', 'C', 'A', 'A', 'A', 'A', 'A', 'A', 'D', 'A', 'A', 'C', 'A', 'E', 'B', 'B', 'C', 'C', 'A', 'C', 'A', 'C', 'B', 'B', 'A', 'E', 'A', 'A', 'C', 'D', 'A', 'A', 'B', 'A', 'A', 'A', 'E', 'A', 'B', 'B', 'C', 'C', 'C', 'C', 'E', 'A', 'B', 'C', 'B', 'A', 'B', 'E', 'B', 'D', 'B', 'B', 'A', 'D', 'E', 'C', 'D', 'B', 'B', 'D', 'A', 'A', 'A', 'A', 'C', 'D', 'A', 'E', 'B', 'E', 'E', 'B', 'C', 'C', 'B', 'A', 'A', 'C', 'A', 'B', 'D', 'A', 'A', 'B', 'A', 'D', 'B', 'A', 'D', 'C', 'B', 'E', 'B', 'E', 'B', 'A', 'E', 'E', 'B', 'A', 'B', 'B', 'A', 'E', 'E', 'A', 'B', 'B', 'B', 'B', 'B', 'B', 'E', 'A', 'A', 'A', 'C', 'B', 'C', 'C', 'A', 'D', 'D', 'C', 'E', 'B', 'B', 'B', 'C', 'B', 'A', 'A', 'C', 'C', 'C', 'A', 'A', 'B', 'A', 'A', 'B', 'A', 'C', 'A', 'B', 'E', 'B', 'B', 'B', 'A', 'D', 'A', 'C', 'B', 'B', 'B', 'C', 'B', 'D', 'A', 'C', 'B', 'D', 'A', 'D', 'E', 'A', 'E', 'B', 'B', 'B', 'A', 'A', 'B', 'A', 'C', 'D', 'B', 'E', 'B', 'B', 'A', 'A', 'A', 'A', 'A', 'A', 'B', 'B', 'D', 'E', 'B', 'D', 'C', 'A', 'B', 'C', 'D', 'B', 'B', 'B', 'B', 'A', 'A', 'B', 'C', 'B', 'A', 'C', 'B', 'C', 'A', 'E', 'B', 'B', 'A', 'A', 'C', 'B', 'C', 'A', 'B', 'E', 'A', 'E', 'B', 'A', 'E', 'B', 'E', 'D', 'B', 'B', 'A', 'A', 'C', 'C', 'B', 'A', 'B', 'B', 'B', 'B', 'B', 'B', 'C', 'B', 'B', 'A', 'E', 'C', 'C', 'A', 'A', 'B', 'D', 'B', 'E', 'C', 'A', 'A', 'A', 'B', 'A', 'B', 'C', 'A', 'A', 'A', 'B', 'E', 'B', 'C', 'B', 'D', 'B', 'A', 'D', 'A', 'A', 'E', 'B', 'B', 'B', 'C', 'B', 'A', 'A', 'A', 'B', 'A', 'A', 'D', 'B', 'D', 'A', 'A', 'B', 'B', 'B', 'C', 'A', 'C', 'A', 'C', 'A', 'B', 'A', 'B', 'B', 'A', 'A', 'A', 'B', 'A', 'E', 'A', 'B', 'D', 'C', 'A', 'C', 'A', 'C', 'B', 'A', 'D', 'A', 'C', 'B', 'D', 'B', 'C', 'B', 'B', 'A', 'B', 'A', 'B', 'B', 'D', 'C', 'C', 'B', 'A', 'C', 'A', 'A', 'A', 'B', 'A', 'E', 'E', 'A', 'E', 'B', 'B', 'B', 'B', 'C', 'A', 'A', 'B', 'B', 'C', 'A', 'E', 'B', 'C', 'C', 'C', 'A', 'C', 'C', 'A', 'A', 'B', 'B', 'B', 'B', 'B', 'B', 'D', 'C', 'B', 'E', 'A', 'C', 'E', 'E', 'A', 'A', 'C', 'C', 'D', 'A', 'B', 'B', 'B', 'B', 'C', 'C', 'B', 'E', 'B', 'A', 'D', 'B', 'D', 'E', 'A', 'B', 'E', 'E', 'B', 'C', 'A', 'A', 'B', 'B', 'B', 'C', 'C', 'B', 'B', 'A', 'B', 'A', 'D', 'A', 'A', 'B', 'B', 'E', 'B', 'D', 'B', 'B', 'B', 'B', 'A', 'C', 'A', 'E', 'A', 'C', 'B', 'E', 'D', 'B', 'B', 'B', 'D', 'E', 'A', 'C', 'D', 'A', 'B', 'C', 'A', 'E', 'B', 'C', 'A', 'B', 'A', 'E', 'C', 'A', 'D', 'B', 'C', 'E', 'A', 'A', 'D', 'A', 'B', 'B', 'A', 'B', 'A', 'E', 'A', 'C', 'C', 'C', 'D', 'C', 'D', 'B', 'B', 'B', 'B', 'A', 'C', 'D', 'B', 'A', 'B', 'A', 'A', 'E', 'D', 'B', 'C', 'A', 'B', 'A', 'A', 'C', 'B', 'C', 'B', 'A', 'E', 'B', 'E', 'E', 'D', 'D', 'A', 'A', 'E', 'C', 'D', 'E', 'A', 'B', 'B', 'A', 'D', 'A', 'B', 'C', 'B', 'A', 'D', 'B', 'B', 'B', 'A', 'B', 'B', 'B', 'E', 'E', 'E', 'B', 'A', 'B', 'D', 'A', 'A', 'E', 'B', 'E', 'A', 'C', 'C', 'D', 'E', 'B', 'B', 'B', 'D', 'C', 'C', 'C', 'B', 'A', 'C', 'B', 'C', 'B', 'C', 'B', 'A', 'B', 'C', 'A', 'A', 'A', 'A', 'C', 'A', 'D', 'C', 'B', 'D', 'B', 'B', 'D', 'E', 'A', 'A', 'A', 'B', 'B', 'B', 'D', 'A', 'D', 'C', 'A', 'D', 'A', 'A', 'E', 'B', 'B', 'E', 'D', 'D', 'A', 'E', 'C', 'C', 'A', 'C', 'B', 'C', 'B', 'B', 'A', 'B', 'A', 'B', 'C', 'D', 'A', 'B', 'C', 'A', 'B', 'B', 'A', 'A', 'D', 'B', 'A', 'B', 'B', 'A', 'D', 'B', 'B', 'C', 'A', 'A', 'D', 'C', 'A', 'B', 'E', 'D', 'C', 'D', 'C', 'D', 'A', 'C', 'B', 'A', 'D', 'C', 'B', 'B', 'E', 'A', 'B', 'A', 'B', 'B', 'B', 'C', 'A', 'E', 'C', 'B', 'C', 'A', 'B', 'C', 'B', 'C', 'C', 'B', 'A', 'B', 'B', 'B', 'B', 'A', 'B', 'A', 'B', 'B', 'B', 'C', 'B', 'A', 'D', 'A', 'B', 'C', 'A', 'A', 'A', 'B', 'B', 'E', 'C', 'B', 'A', 'B', 'A', 'A', 'E', 'A', 'C', 'E', 'B', 'B', 'C', 'A', 'B', 'B', 'E', 'A', 'B', 'B', 'E', 'D', 'A', 'B', 'B', 'A', 'B', 'C', 'B', 'E', 'A', 'D', 'D', 'E', 'A', 'A', 'C', 'B', 'B', 'E', 'C', 'C', 'E', 'B', 'D', 'E', 'A', 'A', 'B', 'A', 'B', 'C', 'B', 'B', 'B', 'A', 'C', 'A', 'B', 'A', 'B', 'D', 'B', 'A', 'B', 'A', 'A', 'E', 'E', 'B', 'B', 'B', 'D', 'B', 'C', 'B', 'D', 'A', 'D', 'B', 'A', 'D', 'B', 'A', 'B', 'C', 'B', 'D', 'E', 'C', 'D', 'C', 'C', 'B', 'A', 'A', 'D', 'A', 'A', 'B', 'D', 'A', 'B', 'B', 'B', 'A', 'A', 'A', 'A', 'A', 'A', 'E', 'D', 'A', 'D', 'A', 'B', 'E', 'A', 'C', 'C', 'D', 'B', 'C', 'B', 'A', 'B', 'D', 'A', 'B', 'E', 'D', 'C', 'B', 'B', 'C', 'A', 'B', 'A', 'B', 'B', 'B', 'A', 'B', 'B', 'C', 'B', 'E', 'A', 'A', 'A', 'C', 'B', 'B', 'C', 'A', 'C', 'B', 'E', 'A', 'E', 'E', 'A', 'B', 'E', 'C', 'B', 'B', 'D', 'B', 'B', 'B', 'D', 'A', 'E', 'A', 'D', 'C', 'B', 'C', 'B', 'A', 'A', 'C', 'B', 'A', 'A', 'B', 'B', 'D', 'B', 'A', 'B', 'D', 'B', 'B', 'C', 'C', 'B', 'C', 'D', 'A', 'B', 'B', 'B', 'C', 'B', 'C', 'B', 'B', 'B', 'B', 'A', 'C', 'E', 'A', 'B', 'B', 'A', 'C', 'E', 'C', 'B', 'E', 'B', 'C', 'A', 'E', 'A', 'A', 'C', 'C', 'B', 'B', 'B', 'A', 'B', 'A', 'A', 'B', 'B', 'B', 'B', 'B', 'B', 'B', 'B', 'E', 'E', 'B', 'A', 'B', 'A', 'B', 'A', 'E', 'A', 'C', 'C', 'B', 'A', 'A', 'A', 'C', 'C', 'B', 'A', 'A', 'A', 'E', 'B', 'A', 'B', 'B', 'C', 'B', 'C', 'A', 'E', 'E', 'B', 'C', 'D', 'D', 'E', 'E', 'B', 'A', 'B', 'C', 'D', 'B', 'B', 'B', 'B', 'B', 'A', 'A', 'D', 'D', 'A', 'A', 'B', 'D', 'D', 'B', 'C', 'B', 'B', 'C', 'E', 'B', 'A', 'C', 'B', 'D', 'B', 'B', 'C', 'B', 'A', 'B', 'E', 'A', 'A', 'B', 'B', 'A', 'C', 'C', 'A', 'C', 'B', 'B', 'A', 'A', 'E', 'C', 'A', 'D', 'C', 'B', 'A', 'B', 'B', 'A', 'C', 'E', 'B', 'A', 'E', 'A', 'A', 'B', 'B', 'E', 'C', 'B', 'C', 'D', 'E', 'B', 'A', 'C', 'C', 'C', 'A', 'E', 'B', 'E', 'C', 'B', 'B', 'B', 'B', 'B', 'A', 'B', 'A', 'B', 'A', 'E', 'D', 'B', 'B', 'A', 'B', 'A', 'B', 'D', 'B', 'A', 'C', 'B', 'C', 'B', 'E', 'C', 'B', 'D', 'C', 'B', 'C', 'B', 'B', 'A', 'D', 'B', 'D', 'B', 'A', 'D', 'D', 'C', 'D', 'B', 'A', 'C', 'E', 'B', 'B', 'E', 'C', 'A', 'E', 'A', 'B', 'A', 'C', 'A', 'D', 'E', 'C', 'A', 'D', 'E', 'D', 'A', 'D', 'A', 'B', 'B', 'B', 'B', 'B', 'B', 'D', 'B', 'B', 'B', 'C', 'C', 'E', 'B', 'C', 'D', 'C', 'C', 'B', 'C', 'A', 'E', 'C', 'E', 'B', 'B', 'B', 'B', 'E', 'A', 'B', 'B', 'C', 'B', 'A', 'E', 'C', 'B', 'D', 'B', 'A', 'C', 'A', 'E', 'D', 'A', 'B', 'C', 'B', 'E', 'D', 'D', 'B', 'B', 'A', 'C', 'E', 'B', 'D', 'E', 'C', 'B', 'B', 'A', 'A', 'D', 'B', 'A', 'C', 'B', 'E', 'A', 'E', 'B', 'D', 'A', 'C', 'E', 'E', 'B', 'D', 'A', 'A', 'C', 'B', 'E', 'E', 'A', 'B', 'A', 'A', 'B', 'C', 'B', 'E', 'B', 'B', 'A', 'B', 'C', 'B', 'A', 'B', 'A', 'D', 'A', 'B', 'E', 'B', 'B', 'B', 'D', 'E', 'A', 'A', 'B', 'A', 'B', 'B', 'B', 'B', 'B', 'B', 'C', 'A', 'B', 'A', 'B', 'A', 'D', 'E', 'A', 'A', 'B', 'D', 'A', 'A', 'B', 'A', 'B', 'B', 'A', 'A', 'D', 'D', 'A', 'B', 'D', 'D', 'A', 'A', 'B', 'A', 'B', 'A', 'C', 'B', 'D', 'B', 'D', 'A', 'B', 'C', 'A', 'C', 'B', 'C', 'B', 'A', 'A', 'D', 'C', 'E', 'B', 'A', 'C', 'A', 'A', 'B', 'B', 'A', 'A', 'D', 'A', 'D', 'E', 'B', 'B', 'D', 'A', 'A', 'E', 'A', 'A', 'B', 'B', 'A', 'A', 'A', 'A', 'A', 'D', 'A', 'D', 'C', 'A', 'A', 'B', 'D', 'B', 'C', 'A', 'C', 'C', 'B', 'E', 'B', 'A', 'A', 'C', 'B', 'C', 'B', 'B', 'B', 'A', 'B', 'A', 'A', 'A', 'B', 'B', 'C', 'B', 'A', 'C', 'C', 'B', 'A', 'B', 'B', 'B', 'D', 'A', 'E', 'C', 'A', 'B', 'E', 'B', 'B', 'E', 'C', 'A', 'B', 'C', 'D', 'A', 'D', 'A', 'B', 'E', 'B', 'B', 'A', 'D', 'A', 'B', 'E', 'A', 'B', 'A', 'C', 'B', 'B', 'D', 'A', 'B', 'B', 'C', 'C', 'B', 'B', 'D', 'A', 'D', 'D', 'A', 'D', 'C', 'D', 'E', 'A', 'A', 'A', 'A', 'D', 'E', 'B', 'A', 'D', 'D', 'C', 'B', 'A', 'B', 'B', 'B', 'B', 'C', 'A', 'B', 'C', 'A', 'E', 'C', 'A', 'A', 'A', 'A', 'E', 'E', 'A', 'B', 'A']\n",
      "Counter({'B': 685, 'A': 566, 'C': 337, 'D': 206, 'E': 206})\n"
     ]
    }
   ],
   "source": [
    "from datasets import Dataset\n",
    "import sqlite3\n",
    "import pandas as pd\n",
    "from collections import Counter\n",
    "\n",
    "def get_dataset(num_samples, seed):\n",
    "    dataset_name = \"./data/teacher-data/teacher_llm_dataset_2000.db\"\n",
    "    conn = sqlite3.connect(dataset_name)\n",
    "    query = \"SELECT * FROM LLM_results\"\n",
    "    df_custom = pd.read_sql_query(query, conn)\n",
    "    conn.close()\n",
    "    training_dataset = Dataset.from_pandas(df_custom)\n",
    "    training_dataset = training_dataset.shuffle(seed=seed).select(range(num_samples))\n",
    "    return training_dataset\n",
    "\n",
    "database = get_dataset(2000, 42)\n",
    "print(database['correct'])\n",
    "\n",
    "# Use Counter to count occurrences\n",
    "count = Counter(database['correct'])\n",
    "\n",
    "# Display the count of each letter\n",
    "print(count)"
   ]
  },
  {
   "cell_type": "code",
   "execution_count": null,
   "metadata": {},
   "outputs": [],
   "source": [
    "from datasets import load_dataset\n",
    "\n",
    "test_data = load_dataset('aqua_rat', split='test')"
   ]
  }
 ],
 "metadata": {
  "kernelspec": {
   "display_name": "adl-cw2",
   "language": "python",
   "name": "python3"
  },
  "language_info": {
   "codemirror_mode": {
    "name": "ipython",
    "version": 3
   },
   "file_extension": ".py",
   "mimetype": "text/x-python",
   "name": "python",
   "nbconvert_exporter": "python",
   "pygments_lexer": "ipython3",
   "version": "3.10.14"
  }
 },
 "nbformat": 4,
 "nbformat_minor": 2
}
