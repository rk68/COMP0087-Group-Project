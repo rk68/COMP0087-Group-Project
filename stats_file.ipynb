{
 "cells": [
  {
   "cell_type": "code",
   "execution_count": 15,
   "metadata": {},
   "outputs": [
    {
     "name": "stdout",
     "output_type": "stream",
     "text": [
      "['D', 'A', 'B', 'B', 'B', 'D', 'C', 'E', 'B', 'D', 'A', 'C', 'B', 'B', 'B', 'C', 'A', 'C', 'B', 'A', 'C', 'B', 'A', 'E', 'B', 'C', 'B', 'B', 'A', 'C', 'B', 'E', 'B', 'C', 'B', 'D', 'B', 'B', 'E', 'B', 'E', 'A', 'B', 'C', 'A', 'A', 'B', 'A', 'A', 'C', 'A', 'A', 'B', 'A', 'A', 'A', 'B', 'A', 'E', 'B', 'A', 'A', 'B', 'A', 'E', 'E', 'C', 'A', 'A', 'D', 'B', 'C', 'C', 'B', 'E', 'B', 'C', 'D', 'C', 'A', 'B', 'E', 'A', 'C', 'D', 'D', 'B', 'B', 'B', 'A', 'B', 'B', 'B', 'B', 'A', 'E', 'A', 'C', 'A', 'B', 'A', 'A', 'B', 'B', 'B', 'D', 'D', 'C', 'C', 'A', 'A', 'B', 'B', 'A', 'B', 'A', 'E', 'A', 'B', 'B', 'A', 'A', 'D', 'A', 'B', 'D', 'A', 'A', 'C', 'E', 'A', 'A', 'B', 'C', 'B', 'A', 'B', 'A', 'C', 'E', 'A', 'A', 'A', 'B', 'B', 'A', 'C', 'B', 'C', 'A', 'C', 'E', 'A', 'E', 'D', 'B', 'C', 'C', 'C', 'C', 'D', 'B', 'A', 'C', 'B', 'A', 'B', 'B', 'A', 'C', 'C', 'D', 'C', 'B', 'E', 'B', 'D', 'C', 'B', 'E', 'A', 'B', 'B', 'A', 'B', 'D', 'A', 'A', 'A', 'D', 'C', 'B', 'A', 'C', 'A', 'A', 'B', 'D', 'B', 'B', 'A', 'E', 'A', 'E', 'B', 'A', 'B', 'C', 'B', 'B', 'C', 'B', 'D', 'B', 'B', 'B', 'C', 'A', 'C', 'B', 'E', 'B', 'B', 'B', 'B', 'B', 'A', 'E', 'E', 'E', 'A', 'A', 'E', 'D', 'B', 'A', 'E', 'B', 'C', 'A', 'C', 'B', 'D', 'E', 'B', 'A', 'C', 'D', 'B', 'E', 'C', 'A', 'C', 'E', 'A', 'C', 'B', 'B', 'D', 'A', 'B', 'B', 'C', 'E', 'C', 'B', 'B', 'D', 'D', 'A', 'E', 'B', 'C', 'C', 'E', 'D', 'B', 'A', 'C', 'D', 'B', 'B', 'B', 'B', 'B', 'C', 'B', 'D', 'C', 'D', 'A', 'A', 'C', 'E', 'A', 'A', 'C', 'C', 'B', 'A', 'C', 'A', 'C', 'A', 'B', 'C', 'E', 'C', 'A', 'B', 'C', 'B', 'C', 'E', 'A', 'C', 'D', 'E', 'A', 'B', 'B', 'A', 'A', 'A', 'B', 'E', 'B', 'B', 'E', 'A', 'A', 'B', 'A', 'B', 'A', 'C', 'B', 'D', 'A', 'A', 'C', 'A', 'C', 'D', 'D', 'B', 'B', 'C', 'B', 'A', 'B', 'B', 'B', 'A', 'B', 'C', 'E', 'B', 'B', 'A', 'E', 'D', 'A', 'A', 'A', 'A', 'C', 'B', 'B', 'A', 'B', 'C', 'A', 'C', 'B', 'A', 'B', 'A', 'B', 'C', 'C', 'B', 'A', 'C', 'B', 'C', 'D', 'D', 'B', 'A', 'D', 'B', 'B', 'B', 'B', 'C', 'E', 'E', 'A', 'D', 'C', 'C', 'B', 'A', 'E', 'C', 'A', 'E', 'C', 'B', 'A', 'C', 'A', 'C', 'B', 'B', 'B', 'A', 'A', 'E', 'A', 'B', 'D', 'D', 'B', 'C', 'C', 'E', 'C', 'C', 'B', 'B', 'B', 'A', 'A', 'B', 'A', 'C', 'D', 'B', 'A', 'B', 'B', 'B', 'A', 'E', 'B', 'D', 'D', 'B', 'B', 'B', 'C', 'A', 'B', 'A', 'B', 'B', 'A', 'A', 'C', 'A', 'B', 'A', 'B', 'A', 'D', 'C', 'B', 'B', 'D', 'A', 'B', 'A', 'A', 'B', 'B', 'E', 'B', 'C', 'E', 'A', 'D', 'B', 'A', 'B', 'B', 'A', 'B', 'E', 'A', 'C', 'A', 'B', 'D', 'E', 'B', 'A', 'B', 'B']\n",
      "Counter({'B': 171, 'A': 138, 'C': 92, 'E': 51, 'D': 48})\n"
     ]
    }
   ],
   "source": [
    "from datasets import Dataset\n",
    "import sqlite3\n",
    "import pandas as pd\n",
    "from collections import Counter\n",
    "\n",
    "def get_dataset(num_samples, seed):\n",
    "    dataset_name = \"./data/teacher-data/teacher_llm_dataset_2000.db\"\n",
    "    conn = sqlite3.connect(dataset_name)\n",
    "    query = \"SELECT * FROM LLM_results\"\n",
    "    df_custom = pd.read_sql_query(query, conn)\n",
    "    conn.close()\n",
    "    training_dataset = Dataset.from_pandas(df_custom)\n",
    "    training_dataset = training_dataset.shuffle(seed=seed).select(range(num_samples))\n",
    "    return training_dataset\n",
    "\n",
    "database = get_dataset(500, 42)\n",
    "print(database['correct'])\n",
    "\n",
    "# Use Counter to count occurrences\n",
    "count = Counter(database['correct'])\n",
    "\n",
    "# Display the count of each letter\n",
    "print(count)"
   ]
  },
  {
   "cell_type": "code",
   "execution_count": null,
   "metadata": {},
   "outputs": [],
   "source": [
    "from datasets import load_dataset\n",
    "\n",
    "test_data = load_dataset('aqua_rat', split='test')"
   ]
  }
 ],
 "metadata": {
  "kernelspec": {
   "display_name": "adl-cw2",
   "language": "python",
   "name": "python3"
  },
  "language_info": {
   "codemirror_mode": {
    "name": "ipython",
    "version": 3
   },
   "file_extension": ".py",
   "mimetype": "text/x-python",
   "name": "python",
   "nbconvert_exporter": "python",
   "pygments_lexer": "ipython3",
   "version": "3.10.14"
  }
 },
 "nbformat": 4,
 "nbformat_minor": 2
}
