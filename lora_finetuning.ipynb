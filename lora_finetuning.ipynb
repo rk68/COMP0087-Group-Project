{
 "cells": [
  {
   "cell_type": "code",
   "execution_count": null,
   "metadata": {},
   "outputs": [],
   "source": [
    "# https://www.philschmid.de/fine-tune-flan-t5-peft#1-setup-development-environment"
   ]
  },
  {
   "cell_type": "code",
   "execution_count": 7,
   "metadata": {},
   "outputs": [],
   "source": [
    "# !pip install -q \"peft==0.2.0\"\n",
    "# !pip install -q \"transformers==4.27.2\" \"datasets==2.9.0\" \"accelerate==0.17.1\" \"evaluate==0.4.0\" \"bitsandbytes==0.37.1\" loralib --upgrade --quiet\n",
    "# !pip install -q rouge-score tensorboard py7zr"
   ]
  },
  {
   "cell_type": "code",
   "execution_count": 1,
   "metadata": {},
   "outputs": [],
   "source": [
    "from transformers import (\n",
    "    T5Tokenizer, \n",
    "    T5ForConditionalGeneration, \n",
    "    Trainer, \n",
    "    TrainingArguments, \n",
    "    AutoTokenizer, \n",
    "    AutoModelForSeq2SeqLM, \n",
    "    RobertaForMultipleChoice,\n",
    "    RobertaForQuestionAnswering,\n",
    "    RobertaTokenizer\n",
    ")\n",
    "from datasets import load_dataset\n",
    "import torch\n",
    "import sympy as sp\n",
    "import sqlite3\n",
    "import pandas as pd\n",
    "import random"
   ]
  },
  {
   "cell_type": "code",
   "execution_count": 2,
   "metadata": {},
   "outputs": [
    {
     "name": "stderr",
     "output_type": "stream",
     "text": [
      "You are using the default legacy behaviour of the <class 'transformers.models.t5.tokenization_t5.T5Tokenizer'>. This is expected, and simply means that the `legacy` (previous) behavior will be used so nothing changes for you. If you want to use the new behaviour, set `legacy=False`. This should only be set if you understand what it means, and thoroughly read the reason why this was added as explained in https://github.com/huggingface/transformers/pull/24565\n",
      "Special tokens have been added in the vocabulary, make sure the associated word embeddings are fine-tuned or trained.\n"
     ]
    }
   ],
   "source": [
    "dataset_name = 'aqua_rat'\n",
    "model_name = 'google-t5/t5-small'\n",
    "\n",
    "dataset = load_dataset(dataset_name, split='train')\n",
    "reduced_dataset = dataset.shuffle(seed=42).select(range(2000))\n",
    "dataset_test = load_dataset(dataset_name, split='test')\n",
    "\n",
    "tokenizer = T5Tokenizer.from_pretrained(model_name)\n",
    "\n",
    "model = T5ForConditionalGeneration.from_pretrained(model_name)\n",
    "model.save_pretrained('./before_finetuning')"
   ]
  },
  {
   "cell_type": "code",
   "execution_count": 3,
   "metadata": {},
   "outputs": [],
   "source": [
    "def preprocess_aquarat(examples):\n",
    "    questions_and_options = [\n",
    "        f\"question: {q} options: {opts[0]} {opts[1]} {opts[2]} {opts[3]} {opts[4]}.\" \n",
    "        for q, opts in zip(examples[\"question\"], examples[\"options\"])]\n",
    "\n",
    "    correct_answers = [opts[ord(examples[\"correct\"][i]) - ord('A')] for i, opts in enumerate(examples[\"options\"])]\n",
    "\n",
    "    input_encodings = tokenizer(questions_and_options, padding=\"max_length\", truncation=True, max_length=512)\n",
    "    target_encodings = tokenizer(correct_answers, padding=\"max_length\", truncation=True, max_length=128)\n",
    "    \n",
    "    return {\n",
    "        \"input_ids\": input_encodings.input_ids,\n",
    "        \"attention_mask\": input_encodings.attention_mask,\n",
    "        \"labels\": target_encodings.input_ids\n",
    "    }\n",
    "\n",
    "def ask_math_question(input_ids, model, tokenizer):\n",
    "    # Generate the output ids with the model\n",
    "    output_ids = model.generate(input_ids, max_length=50, num_beams=5, early_stopping=True)[0]\n",
    "    # Decode the generated ids to get the answer\n",
    "    answer = tokenizer.decode(output_ids, skip_special_tokens=True)\n",
    "    return answer"
   ]
  },
  {
   "cell_type": "code",
   "execution_count": 4,
   "metadata": {},
   "outputs": [
    {
     "name": "stdout",
     "output_type": "stream",
     "text": [
      "Dataset({\n",
      "    features: ['question', 'options', 'rationale', 'correct', 'input_ids', 'attention_mask', 'labels'],\n",
      "    num_rows: 2000\n",
      "})\n",
      "Dataset({\n",
      "    features: ['question', 'options', 'rationale', 'correct', 'input_ids', 'attention_mask', 'labels'],\n",
      "    num_rows: 254\n",
      "})\n"
     ]
    }
   ],
   "source": [
    "# Apply preprocessing\n",
    "processed_dataset = reduced_dataset.map(preprocess_aquarat, batched=True)\n",
    "process_dataset_test = dataset_test.map(preprocess_aquarat, batched=True)\n",
    "\n",
    "print(processed_dataset)\n",
    "print(process_dataset_test)"
   ]
  },
  {
   "cell_type": "code",
   "execution_count": 5,
   "metadata": {},
   "outputs": [
    {
     "name": "stdout",
     "output_type": "stream",
     "text": [
      "'NoneType' object has no attribute 'cadam32bit_grad_fp32'\n",
      "trainable params: 589,824 || all params: 61,096,448 || trainable%: 0.9653981848502878\n"
     ]
    },
    {
     "name": "stderr",
     "output_type": "stream",
     "text": [
      "/Users/sebastiandaws/miniconda3/envs/dsml_env/lib/python3.9/site-packages/peft/utils/other.py:143: FutureWarning: prepare_model_for_int8_training is deprecated and will be removed in a future version. Use prepare_model_for_kbit_training instead.\n",
      "  warnings.warn(\n",
      "/Users/sebastiandaws/miniconda3/envs/dsml_env/lib/python3.9/site-packages/bitsandbytes/cextension.py:34: UserWarning: The installed version of bitsandbytes was compiled without GPU support. 8-bit optimizers, 8-bit multiplication, and GPU quantization are unavailable.\n",
      "  warn(\"The installed version of bitsandbytes was compiled without GPU support. \"\n"
     ]
    }
   ],
   "source": [
    "from peft import LoraConfig, get_peft_model, prepare_model_for_int8_training, TaskType\n",
    "\n",
    "# Define LoRA Config\n",
    "lora_config = LoraConfig(\n",
    "    r=16,\n",
    "    lora_alpha=32,\n",
    "    target_modules=[\"q\", \"v\"],\n",
    "    lora_dropout=0.05,\n",
    "    bias=\"none\",\n",
    "    task_type=TaskType.SEQ_2_SEQ_LM\n",
    ")\n",
    "# prepare int-8 model for training\n",
    "model = prepare_model_for_int8_training(model)\n",
    "\n",
    "# add LoRA adaptor\n",
    "model = get_peft_model(model, lora_config)\n",
    "model.print_trainable_parameters()"
   ]
  },
  {
   "cell_type": "code",
   "execution_count": 6,
   "metadata": {},
   "outputs": [],
   "source": [
    "from transformers import DataCollatorForSeq2Seq\n",
    "\n",
    "# we want to ignore tokenizer pad token in the loss\n",
    "label_pad_token_id = -100\n",
    "# Data collator\n",
    "data_collator = DataCollatorForSeq2Seq(\n",
    "    tokenizer,\n",
    "    model=model,\n",
    "    label_pad_token_id=label_pad_token_id,\n",
    "    pad_to_multiple_of=8\n",
    ")"
   ]
  },
  {
   "cell_type": "code",
   "execution_count": 7,
   "metadata": {},
   "outputs": [],
   "source": [
    "from transformers import Seq2SeqTrainer, Seq2SeqTrainingArguments\n",
    "\n",
    "output_dir=\"./lora_checkpoints\"\n",
    "\n",
    "# Define training args\n",
    "training_args = Seq2SeqTrainingArguments(\n",
    "    output_dir=output_dir,\n",
    "\tauto_find_batch_size=True,\n",
    "    learning_rate=1e-3, # higher learning rate\n",
    "    num_train_epochs=5,\n",
    "    logging_dir=f\"{output_dir}/logs\",\n",
    "    logging_strategy=\"steps\",\n",
    "    logging_steps=50,\n",
    "    save_strategy=\"no\",\n",
    "    report_to=\"tensorboard\",\n",
    ")\n",
    "\n",
    "# Create Trainer instance\n",
    "trainer = Seq2SeqTrainer(\n",
    "    model=model,\n",
    "    args=training_args,\n",
    "    data_collator=data_collator,\n",
    "    train_dataset=processed_dataset,\n",
    ")\n",
    "model.config.use_cache = False  # silence the warnings. Please re-enable for inference!"
   ]
  },
  {
   "cell_type": "code",
   "execution_count": 8,
   "metadata": {},
   "outputs": [
    {
     "data": {
      "application/vnd.jupyter.widget-view+json": {
       "model_id": "4c16d65ea0c9461fa630b6fa4087d964",
       "version_major": 2,
       "version_minor": 0
      },
      "text/plain": [
       "  0%|          | 0/1250 [00:00<?, ?it/s]"
      ]
     },
     "metadata": {},
     "output_type": "display_data"
    },
    {
     "name": "stdout",
     "output_type": "stream",
     "text": [
      "{'loss': 2.1617, 'learning_rate': 0.00096, 'epoch': 0.2}\n",
      "{'loss': 0.0758, 'learning_rate': 0.00092, 'epoch': 0.4}\n",
      "{'loss': 0.0352, 'learning_rate': 0.00088, 'epoch': 0.6}\n",
      "{'loss': 0.0258, 'learning_rate': 0.00084, 'epoch': 0.8}\n",
      "{'loss': 0.023, 'learning_rate': 0.0008, 'epoch': 1.0}\n",
      "{'loss': 0.0198, 'learning_rate': 0.00076, 'epoch': 1.2}\n",
      "{'loss': 0.0181, 'learning_rate': 0.0007199999999999999, 'epoch': 1.4}\n",
      "{'loss': 0.0186, 'learning_rate': 0.00068, 'epoch': 1.6}\n",
      "{'loss': 0.0171, 'learning_rate': 0.00064, 'epoch': 1.8}\n",
      "{'loss': 0.0171, 'learning_rate': 0.0006, 'epoch': 2.0}\n",
      "{'loss': 0.0168, 'learning_rate': 0.0005600000000000001, 'epoch': 2.2}\n",
      "{'loss': 0.0157, 'learning_rate': 0.0005200000000000001, 'epoch': 2.4}\n",
      "{'loss': 0.0152, 'learning_rate': 0.00048, 'epoch': 2.6}\n",
      "{'loss': 0.0166, 'learning_rate': 0.00044, 'epoch': 2.8}\n",
      "{'loss': 0.0157, 'learning_rate': 0.0004, 'epoch': 3.0}\n",
      "{'loss': 0.0152, 'learning_rate': 0.00035999999999999997, 'epoch': 3.2}\n",
      "{'loss': 0.0149, 'learning_rate': 0.00032, 'epoch': 3.4}\n",
      "{'loss': 0.016, 'learning_rate': 0.00028000000000000003, 'epoch': 3.6}\n",
      "{'loss': 0.0155, 'learning_rate': 0.00024, 'epoch': 3.8}\n",
      "{'loss': 0.0151, 'learning_rate': 0.0002, 'epoch': 4.0}\n",
      "{'loss': 0.0162, 'learning_rate': 0.00016, 'epoch': 4.2}\n",
      "{'loss': 0.0146, 'learning_rate': 0.00012, 'epoch': 4.4}\n",
      "{'loss': 0.0148, 'learning_rate': 8e-05, 'epoch': 4.6}\n",
      "{'loss': 0.0149, 'learning_rate': 4e-05, 'epoch': 4.8}\n",
      "{'loss': 0.0152, 'learning_rate': 0.0, 'epoch': 5.0}\n",
      "{'train_runtime': 632.2692, 'train_samples_per_second': 15.816, 'train_steps_per_second': 1.977, 'train_loss': 0.10578697457313538, 'epoch': 5.0}\n"
     ]
    },
    {
     "data": {
      "text/plain": [
       "TrainOutput(global_step=1250, training_loss=0.10578697457313538, metrics={'train_runtime': 632.2692, 'train_samples_per_second': 15.816, 'train_steps_per_second': 1.977, 'train_loss': 0.10578697457313538, 'epoch': 5.0})"
      ]
     },
     "execution_count": 8,
     "metadata": {},
     "output_type": "execute_result"
    }
   ],
   "source": [
    "# train model\n",
    "trainer.train()"
   ]
  },
  {
   "cell_type": "code",
   "execution_count": 9,
   "metadata": {},
   "outputs": [
    {
     "data": {
      "text/plain": [
       "('peft_tuned/tokenizer_config.json',\n",
       " 'peft_tuned/special_tokens_map.json',\n",
       " 'peft_tuned/spiece.model',\n",
       " 'peft_tuned/added_tokens.json')"
      ]
     },
     "execution_count": 9,
     "metadata": {},
     "output_type": "execute_result"
    }
   ],
   "source": [
    "# Save our LoRA model & tokenizer results\n",
    "peft_model_id=\"peft_tuned\"\n",
    "trainer.model.save_pretrained(peft_model_id)\n",
    "tokenizer.save_pretrained(peft_model_id)\n",
    "# if you want to save the base model to call\n",
    "# trainer.model.base_model.save_pretrained(peft_model_id)"
   ]
  },
  {
   "cell_type": "code",
   "execution_count": null,
   "metadata": {},
   "outputs": [],
   "source": []
  }
 ],
 "metadata": {
  "kernelspec": {
   "display_name": "base",
   "language": "python",
   "name": "python3"
  },
  "language_info": {
   "codemirror_mode": {
    "name": "ipython",
    "version": 3
   },
   "file_extension": ".py",
   "mimetype": "text/x-python",
   "name": "python",
   "nbconvert_exporter": "python",
   "pygments_lexer": "ipython3",
   "version": "3.9.18"
  }
 },
 "nbformat": 4,
 "nbformat_minor": 2
}
